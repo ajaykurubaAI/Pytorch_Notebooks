{
  "nbformat": 4,
  "nbformat_minor": 0,
  "metadata": {
    "colab": {
      "provenance": [],
      "gpuType": "T4"
    },
    "kernelspec": {
      "name": "python3",
      "display_name": "Python 3"
    },
    "language_info": {
      "name": "python"
    },
    "accelerator": "GPU"
  },
  "cells": [
    {
      "cell_type": "markdown",
      "source": [
        "## Introduction"
      ],
      "metadata": {
        "id": "INrgHBSqRD5K"
      }
    },
    {
      "cell_type": "code",
      "execution_count": null,
      "metadata": {
        "id": "kwieSpilQmTi"
      },
      "outputs": [],
      "source": [
        "'''\n",
        "1. Pytorch Framework - Tensors datatypes\n",
        "Tensors are similar to numpy arrays, tensors can run on gpus where as numpy arrays cannot run on gpus.\n",
        "Tenors support Automatic Differentiation\n",
        "'''"
      ]
    },
    {
      "cell_type": "markdown",
      "source": [
        "##Initalizaing a Tensor"
      ],
      "metadata": {
        "id": "MV4N1NZwRrOo"
      }
    },
    {
      "cell_type": "code",
      "source": [
        "import numpy as np\n",
        "import torch"
      ],
      "metadata": {
        "id": "pSMxTwqxR2oK"
      },
      "execution_count": 1,
      "outputs": []
    },
    {
      "cell_type": "code",
      "source": [
        "data = [[1,2],[3,4]]\n",
        "#converting this to numpy array\n",
        "np_array = np.array(data)\n",
        "print(np_array.shape)\n",
        "print(np_array)\n",
        "print(type(np_array))"
      ],
      "metadata": {
        "colab": {
          "base_uri": "https://localhost:8080/"
        },
        "id": "LC9bde4qRtDt",
        "outputId": "3d78df99-a3e4-4528-811c-26dacf53074b"
      },
      "execution_count": 2,
      "outputs": [
        {
          "output_type": "stream",
          "name": "stdout",
          "text": [
            "(2, 2)\n",
            "[[1 2]\n",
            " [3 4]]\n",
            "<class 'numpy.ndarray'>\n"
          ]
        }
      ]
    },
    {
      "cell_type": "code",
      "source": [
        "torch_tensor = torch.Tensor(data)\n",
        "print(torch_tensor.shape)\n",
        "print(torch_tensor)\n",
        "print(type(torch_tensor))"
      ],
      "metadata": {
        "colab": {
          "base_uri": "https://localhost:8080/"
        },
        "id": "zTvdjQk9SAGj",
        "outputId": "75f71778-c61f-4721-888d-58d5d4dc66ee"
      },
      "execution_count": 3,
      "outputs": [
        {
          "output_type": "stream",
          "name": "stdout",
          "text": [
            "torch.Size([2, 2])\n",
            "tensor([[1., 2.],\n",
            "        [3., 4.]])\n",
            "<class 'torch.Tensor'>\n"
          ]
        }
      ]
    },
    {
      "cell_type": "code",
      "source": [
        "# Converting numpy array to tenor\n",
        "x_tensor = torch.from_numpy(np_array)\n",
        "print(x_tensor)"
      ],
      "metadata": {
        "colab": {
          "base_uri": "https://localhost:8080/"
        },
        "id": "jJVq439ISP-l",
        "outputId": "4ebf2fc1-1ea2-4d29-8ebb-2e19d10c24ac"
      },
      "execution_count": 4,
      "outputs": [
        {
          "output_type": "stream",
          "name": "stdout",
          "text": [
            "tensor([[1, 2],\n",
            "        [3, 4]])\n"
          ]
        }
      ]
    },
    {
      "cell_type": "code",
      "source": [
        "##Create a tensor of all ones similar to x_tensor\n",
        "x_ones = torch.ones_like(x_tensor)\n",
        "x_ones"
      ],
      "metadata": {
        "colab": {
          "base_uri": "https://localhost:8080/"
        },
        "id": "J0wIcNfESmbz",
        "outputId": "4687be31-3994-42e1-8266-af58571bc22c"
      },
      "execution_count": 5,
      "outputs": [
        {
          "output_type": "execute_result",
          "data": {
            "text/plain": [
              "tensor([[1, 1],\n",
              "        [1, 1]])"
            ]
          },
          "metadata": {},
          "execution_count": 5
        }
      ]
    },
    {
      "cell_type": "code",
      "source": [
        "##Create a random tensor similar to x_tensor\n",
        "x_rand = torch.rand_like(x_tensor,dtype=torch.float) #np.float\n",
        "x_rand"
      ],
      "metadata": {
        "colab": {
          "base_uri": "https://localhost:8080/"
        },
        "id": "YmaMUqxhS3PO",
        "outputId": "b1be57a7-fd4a-430a-a8a6-68930d1abf6f"
      },
      "execution_count": 6,
      "outputs": [
        {
          "output_type": "execute_result",
          "data": {
            "text/plain": [
              "tensor([[0.2102, 0.2285],\n",
              "        [0.8939, 0.5833]])"
            ]
          },
          "metadata": {},
          "execution_count": 6
        }
      ]
    },
    {
      "cell_type": "code",
      "source": [
        "shape = (2,3,) #2x3x1\n",
        "\n",
        "rand_tensor = torch.rand(shape) #np.random.rand\n",
        "ones_tensor = torch.ones(shape) #np.ones\n",
        "zeros_tensor = torch.zeros(shape) #np.zeros\n",
        "\n",
        "print(rand_tensor)\n",
        "print(ones_tensor)\n",
        "print(zeros_tensor)"
      ],
      "metadata": {
        "colab": {
          "base_uri": "https://localhost:8080/"
        },
        "id": "6_bKPP2hS-zf",
        "outputId": "37d3a898-d2f6-4b9c-b0c5-06b66734fd69"
      },
      "execution_count": 7,
      "outputs": [
        {
          "output_type": "stream",
          "name": "stdout",
          "text": [
            "tensor([[0.4186, 0.5931, 0.5519],\n",
            "        [0.6391, 0.7223, 0.8320]])\n",
            "tensor([[1., 1., 1.],\n",
            "        [1., 1., 1.]])\n",
            "tensor([[0., 0., 0.],\n",
            "        [0., 0., 0.]])\n"
          ]
        }
      ]
    },
    {
      "cell_type": "code",
      "source": [
        "print(rand_tensor.shape)"
      ],
      "metadata": {
        "colab": {
          "base_uri": "https://localhost:8080/"
        },
        "id": "UnJkBLNpT71o",
        "outputId": "5e149341-a1c3-45c8-be43-225251ca5bf6"
      },
      "execution_count": 8,
      "outputs": [
        {
          "output_type": "stream",
          "name": "stdout",
          "text": [
            "torch.Size([2, 3])\n"
          ]
        }
      ]
    },
    {
      "cell_type": "code",
      "source": [
        "tensor = torch.rand(3,4)"
      ],
      "metadata": {
        "id": "yyuH1itaT_VG"
      },
      "execution_count": 9,
      "outputs": []
    },
    {
      "cell_type": "code",
      "source": [
        "tensor.shape"
      ],
      "metadata": {
        "colab": {
          "base_uri": "https://localhost:8080/"
        },
        "id": "L7u5I6g6UQAF",
        "outputId": "25bbf914-8c0e-4a74-c8e3-041a153b7dbd"
      },
      "execution_count": 10,
      "outputs": [
        {
          "output_type": "execute_result",
          "data": {
            "text/plain": [
              "torch.Size([3, 4])"
            ]
          },
          "metadata": {},
          "execution_count": 10
        }
      ]
    },
    {
      "cell_type": "code",
      "source": [
        "tensor.dtype"
      ],
      "metadata": {
        "colab": {
          "base_uri": "https://localhost:8080/"
        },
        "id": "b6rBSqeoUQsF",
        "outputId": "df4d1f9d-903b-4d59-e419-b56ba11e7ed3"
      },
      "execution_count": 11,
      "outputs": [
        {
          "output_type": "execute_result",
          "data": {
            "text/plain": [
              "torch.float32"
            ]
          },
          "metadata": {},
          "execution_count": 11
        }
      ]
    },
    {
      "cell_type": "code",
      "source": [
        "tensor.device"
      ],
      "metadata": {
        "colab": {
          "base_uri": "https://localhost:8080/"
        },
        "id": "EPFEYvSbUSJD",
        "outputId": "2493eb32-16ac-4575-9933-c985b76d3a90"
      },
      "execution_count": 12,
      "outputs": [
        {
          "output_type": "execute_result",
          "data": {
            "text/plain": [
              "device(type='cpu')"
            ]
          },
          "metadata": {},
          "execution_count": 12
        }
      ]
    },
    {
      "cell_type": "code",
      "source": [
        "if torch.cuda.is_available():\n",
        "    tensor = tensor.to('cuda')\n",
        "else:\n",
        "  pass"
      ],
      "metadata": {
        "id": "nCkD6kwTUT8O"
      },
      "execution_count": 13,
      "outputs": []
    },
    {
      "cell_type": "code",
      "source": [
        "tensor.device"
      ],
      "metadata": {
        "colab": {
          "base_uri": "https://localhost:8080/"
        },
        "id": "vKmUfoXyUg9B",
        "outputId": "7bc623eb-5176-4627-b6d0-ff3a438c9ecf"
      },
      "execution_count": 14,
      "outputs": [
        {
          "output_type": "execute_result",
          "data": {
            "text/plain": [
              "device(type='cuda', index=0)"
            ]
          },
          "metadata": {},
          "execution_count": 14
        }
      ]
    },
    {
      "cell_type": "code",
      "source": [
        "tensor = torch.ones(4,4)"
      ],
      "metadata": {
        "id": "bDofBTdyUiLt"
      },
      "execution_count": 16,
      "outputs": []
    },
    {
      "cell_type": "code",
      "source": [
        "tensor"
      ],
      "metadata": {
        "colab": {
          "base_uri": "https://localhost:8080/"
        },
        "id": "gsaxYVfSUyfN",
        "outputId": "2344dc36-44ff-493f-e38b-1aaa00257af6"
      },
      "execution_count": 17,
      "outputs": [
        {
          "output_type": "execute_result",
          "data": {
            "text/plain": [
              "tensor([[1., 1., 1., 1.],\n",
              "        [1., 1., 1., 1.],\n",
              "        [1., 1., 1., 1.],\n",
              "        [1., 1., 1., 1.]])"
            ]
          },
          "metadata": {},
          "execution_count": 17
        }
      ]
    },
    {
      "cell_type": "code",
      "source": [
        "tensor[0] #First row of the tensor"
      ],
      "metadata": {
        "colab": {
          "base_uri": "https://localhost:8080/"
        },
        "id": "EAYHbS6QU1Nj",
        "outputId": "e23adef7-aa55-4695-df6f-2e3f4d9f68cc"
      },
      "execution_count": 18,
      "outputs": [
        {
          "output_type": "execute_result",
          "data": {
            "text/plain": [
              "tensor([1., 1., 1., 1.])"
            ]
          },
          "metadata": {},
          "execution_count": 18
        }
      ]
    },
    {
      "cell_type": "code",
      "source": [
        "tensor[:,0]"
      ],
      "metadata": {
        "colab": {
          "base_uri": "https://localhost:8080/"
        },
        "id": "EeoU7el4U8kP",
        "outputId": "d9f04737-0135-4791-caea-3183beaa4826"
      },
      "execution_count": 19,
      "outputs": [
        {
          "output_type": "execute_result",
          "data": {
            "text/plain": [
              "tensor([1., 1., 1., 1.])"
            ]
          },
          "metadata": {},
          "execution_count": 19
        }
      ]
    },
    {
      "cell_type": "code",
      "source": [
        "tensor[:,-1]"
      ],
      "metadata": {
        "colab": {
          "base_uri": "https://localhost:8080/"
        },
        "id": "92bBgoH8VJnR",
        "outputId": "5216abca-f0b7-47fe-b72b-932799d12b92"
      },
      "execution_count": 20,
      "outputs": [
        {
          "output_type": "execute_result",
          "data": {
            "text/plain": [
              "tensor([1., 1., 1., 1.])"
            ]
          },
          "metadata": {},
          "execution_count": 20
        }
      ]
    },
    {
      "cell_type": "code",
      "source": [
        "## concatenating the tensor\n",
        "tensor = torch.rand(4,4)\n",
        "tensor"
      ],
      "metadata": {
        "colab": {
          "base_uri": "https://localhost:8080/"
        },
        "id": "jaWJlGTVVRaY",
        "outputId": "9195781d-7db6-43e5-9c80-b3ae8252f798"
      },
      "execution_count": 21,
      "outputs": [
        {
          "output_type": "execute_result",
          "data": {
            "text/plain": [
              "tensor([[0.3689, 0.6126, 0.9224, 0.6010],\n",
              "        [0.3734, 0.1073, 0.0960, 0.2281],\n",
              "        [0.3271, 0.4113, 0.1484, 0.2810],\n",
              "        [0.9845, 0.9560, 0.0233, 0.6454]])"
            ]
          },
          "metadata": {},
          "execution_count": 21
        }
      ]
    },
    {
      "cell_type": "code",
      "source": [
        "torch.cat([tensor,tensor,tensor],dim=1) #dim - dimension"
      ],
      "metadata": {
        "colab": {
          "base_uri": "https://localhost:8080/"
        },
        "id": "l0SDPnpfVfBf",
        "outputId": "a529a991-76b5-48a8-cd65-9a59106d428d"
      },
      "execution_count": 22,
      "outputs": [
        {
          "output_type": "execute_result",
          "data": {
            "text/plain": [
              "tensor([[0.3689, 0.6126, 0.9224, 0.6010, 0.3689, 0.6126, 0.9224, 0.6010, 0.3689,\n",
              "         0.6126, 0.9224, 0.6010],\n",
              "        [0.3734, 0.1073, 0.0960, 0.2281, 0.3734, 0.1073, 0.0960, 0.2281, 0.3734,\n",
              "         0.1073, 0.0960, 0.2281],\n",
              "        [0.3271, 0.4113, 0.1484, 0.2810, 0.3271, 0.4113, 0.1484, 0.2810, 0.3271,\n",
              "         0.4113, 0.1484, 0.2810],\n",
              "        [0.9845, 0.9560, 0.0233, 0.6454, 0.9845, 0.9560, 0.0233, 0.6454, 0.9845,\n",
              "         0.9560, 0.0233, 0.6454]])"
            ]
          },
          "metadata": {},
          "execution_count": 22
        }
      ]
    },
    {
      "cell_type": "code",
      "source": [
        "## Arithemetic Operations\n",
        "t1 = torch.rand(2,2)\n",
        "t2 = torch.rand(2,2)\n",
        "\n",
        "y1 = t1 @ t2.T ##or\n",
        "y2 = t1.matmul(t2.T)"
      ],
      "metadata": {
        "id": "IgyRjG7nVsEW"
      },
      "execution_count": 23,
      "outputs": []
    },
    {
      "cell_type": "code",
      "source": [
        "y1"
      ],
      "metadata": {
        "colab": {
          "base_uri": "https://localhost:8080/"
        },
        "id": "0-c_dgshWaWJ",
        "outputId": "f533cbca-d51c-49ba-8517-497eb8bef358"
      },
      "execution_count": 24,
      "outputs": [
        {
          "output_type": "execute_result",
          "data": {
            "text/plain": [
              "tensor([[0.3002, 0.0250],\n",
              "        [0.8177, 0.0676]])"
            ]
          },
          "metadata": {},
          "execution_count": 24
        }
      ]
    },
    {
      "cell_type": "code",
      "source": [
        "y2"
      ],
      "metadata": {
        "colab": {
          "base_uri": "https://localhost:8080/"
        },
        "id": "solO8iJlWa-k",
        "outputId": "559a9d96-56e2-4351-8c25-e667f07541da"
      },
      "execution_count": 25,
      "outputs": [
        {
          "output_type": "execute_result",
          "data": {
            "text/plain": [
              "tensor([[0.3002, 0.0250],\n",
              "        [0.8177, 0.0676]])"
            ]
          },
          "metadata": {},
          "execution_count": 25
        }
      ]
    },
    {
      "cell_type": "code",
      "source": [
        "## [2x2] and [2x2]\n",
        "z1 = t1*t2"
      ],
      "metadata": {
        "id": "JpX_BRgOWdKD"
      },
      "execution_count": 26,
      "outputs": []
    },
    {
      "cell_type": "code",
      "source": [
        "z1"
      ],
      "metadata": {
        "colab": {
          "base_uri": "https://localhost:8080/"
        },
        "id": "SX7Ks9k7WytO",
        "outputId": "12c1d583-187c-4166-ac57-acb1e5f65814"
      },
      "execution_count": 27,
      "outputs": [
        {
          "output_type": "execute_result",
          "data": {
            "text/plain": [
              "tensor([[0.2237, 0.0766],\n",
              "        [0.0499, 0.0178]])"
            ]
          },
          "metadata": {},
          "execution_count": 27
        }
      ]
    },
    {
      "cell_type": "code",
      "source": [
        "z2 = t1.mul(t2) #matmul does matrix multiplication : mul does elementwise multiplication"
      ],
      "metadata": {
        "id": "4fFaIlVgWzbI"
      },
      "execution_count": 28,
      "outputs": []
    },
    {
      "cell_type": "code",
      "source": [
        "t1"
      ],
      "metadata": {
        "colab": {
          "base_uri": "https://localhost:8080/"
        },
        "id": "B9UXmJH5W53m",
        "outputId": "2b917e17-e3eb-411b-c8cb-08a5f10742e2"
      },
      "execution_count": 29,
      "outputs": [
        {
          "output_type": "execute_result",
          "data": {
            "text/plain": [
              "tensor([[0.2485, 0.2473],\n",
              "        [0.6349, 0.7952]])"
            ]
          },
          "metadata": {},
          "execution_count": 29
        }
      ]
    },
    {
      "cell_type": "code",
      "source": [
        "agg = t1.sum()"
      ],
      "metadata": {
        "id": "UHbYzJtVXDwF"
      },
      "execution_count": 30,
      "outputs": []
    },
    {
      "cell_type": "code",
      "source": [
        "agg"
      ],
      "metadata": {
        "colab": {
          "base_uri": "https://localhost:8080/"
        },
        "id": "8nJYlVWgXNCv",
        "outputId": "63424b4e-62a0-4a57-bafb-824ccc834861"
      },
      "execution_count": 31,
      "outputs": [
        {
          "output_type": "execute_result",
          "data": {
            "text/plain": [
              "tensor(1.9259)"
            ]
          },
          "metadata": {},
          "execution_count": 31
        }
      ]
    },
    {
      "cell_type": "code",
      "source": [
        "agg.item()"
      ],
      "metadata": {
        "colab": {
          "base_uri": "https://localhost:8080/"
        },
        "id": "KTn0ub8SXOJo",
        "outputId": "d35822c4-9b1c-40fe-a431-318a20740bee"
      },
      "execution_count": 32,
      "outputs": [
        {
          "output_type": "execute_result",
          "data": {
            "text/plain": [
              "1.9259133338928223"
            ]
          },
          "metadata": {},
          "execution_count": 32
        }
      ]
    },
    {
      "cell_type": "code",
      "source": [
        "t1 = torch.ones(4,4)\n",
        "t1[:,1] = 0\n",
        "t1"
      ],
      "metadata": {
        "colab": {
          "base_uri": "https://localhost:8080/"
        },
        "id": "nN8cFOBDXR4V",
        "outputId": "9d93711b-2f1c-4501-bc10-57d7d1ee57a2"
      },
      "execution_count": 34,
      "outputs": [
        {
          "output_type": "execute_result",
          "data": {
            "text/plain": [
              "tensor([[1., 0., 1., 1.],\n",
              "        [1., 0., 1., 1.],\n",
              "        [1., 0., 1., 1.],\n",
              "        [1., 0., 1., 1.]])"
            ]
          },
          "metadata": {},
          "execution_count": 34
        }
      ]
    },
    {
      "cell_type": "code",
      "source": [
        "t1.add_(5)"
      ],
      "metadata": {
        "colab": {
          "base_uri": "https://localhost:8080/"
        },
        "id": "hn9HhqDjXrgN",
        "outputId": "5614a1cc-398a-49bf-d692-620a88b64e8a"
      },
      "execution_count": 35,
      "outputs": [
        {
          "output_type": "execute_result",
          "data": {
            "text/plain": [
              "tensor([[6., 5., 6., 6.],\n",
              "        [6., 5., 6., 6.],\n",
              "        [6., 5., 6., 6.],\n",
              "        [6., 5., 6., 6.]])"
            ]
          },
          "metadata": {},
          "execution_count": 35
        }
      ]
    },
    {
      "cell_type": "code",
      "source": [
        "x = np.array([[1,2],[3,4]])\n",
        "tensor = torch.from_numpy(x) #convert it into tensor\n",
        "y = tensor.numpy()#convert it to numpy array"
      ],
      "metadata": {
        "id": "fTgQ0pyWX3GL"
      },
      "execution_count": 36,
      "outputs": []
    },
    {
      "cell_type": "code",
      "source": [
        "type(x)"
      ],
      "metadata": {
        "colab": {
          "base_uri": "https://localhost:8080/"
        },
        "id": "tAsL3BekYRm_",
        "outputId": "c6bc8cb6-620d-47d9-cf0b-2f7e2b76784d"
      },
      "execution_count": 38,
      "outputs": [
        {
          "output_type": "execute_result",
          "data": {
            "text/plain": [
              "numpy.ndarray"
            ]
          },
          "metadata": {},
          "execution_count": 38
        }
      ]
    },
    {
      "cell_type": "code",
      "source": [
        "type(tensor)"
      ],
      "metadata": {
        "colab": {
          "base_uri": "https://localhost:8080/"
        },
        "id": "w2z2jGfLYTE_",
        "outputId": "8e39b200-132d-4194-b0c7-f450e1625b6d"
      },
      "execution_count": 39,
      "outputs": [
        {
          "output_type": "execute_result",
          "data": {
            "text/plain": [
              "torch.Tensor"
            ]
          },
          "metadata": {},
          "execution_count": 39
        }
      ]
    },
    {
      "cell_type": "code",
      "source": [
        "type(y)"
      ],
      "metadata": {
        "colab": {
          "base_uri": "https://localhost:8080/"
        },
        "id": "JcNt9IcaYYi5",
        "outputId": "c80c21cd-e9d1-4c67-9f14-2ab8f8f47f6f"
      },
      "execution_count": 40,
      "outputs": [
        {
          "output_type": "execute_result",
          "data": {
            "text/plain": [
              "numpy.ndarray"
            ]
          },
          "metadata": {},
          "execution_count": 40
        }
      ]
    },
    {
      "cell_type": "code",
      "source": [],
      "metadata": {
        "id": "QytCMd2nYaF3"
      },
      "execution_count": null,
      "outputs": []
    }
  ]
}